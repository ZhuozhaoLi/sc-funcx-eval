{
 "cells": [
  {
   "cell_type": "code",
   "execution_count": 1,
   "metadata": {},
   "outputs": [],
   "source": [
    "import os\n",
    "import re\n",
    "from datetime import datetime\n",
    "import matplotlib\n",
    "import matplotlib.pyplot as plt"
   ]
  },
  {
   "cell_type": "code",
   "execution_count": 2,
   "metadata": {},
   "outputs": [],
   "source": [
    "last_rundir = sorted(os.listdir('runinfo'))[-1]\n",
    "\n",
    "logdata = None\n",
    "with open(\"runinfo/{}/parsl.log\".format(last_rundir)) as f:\n",
    "    logdata = f.readlines()"
   ]
  },
  {
   "cell_type": "code",
   "execution_count": 7,
   "metadata": {},
   "outputs": [],
   "source": [
    "tasks = {}\n",
    "termination_time = None\n",
    "for item in logdata:\n",
    "    if \"Task \" in item:        \n",
    "        t = datetime.strptime(item[:23], '%Y-%m-%d %H:%M:%S.%f')\n",
    "        task_id = item.split(\"Task\")[1].split()[0]\n",
    "        if task_id not in tasks:\n",
    "            tasks[task_id] = {'submitted':None,\n",
    "                              'set':None, # Pending\n",
    "                              'launched':None,\n",
    "                              'failed':None,\n",
    "                              'marked':None,\n",
    "                              'completed':None\n",
    "                             }        \n",
    "        \n",
    "        flag = False\n",
    "        for kind in [\"submitted\", \"set\", \"launched\", \"failed\", \"marked\", \"completed\"]:\n",
    "            if kind in item:\n",
    "                tasks[task_id][kind] = t\n",
    "                flag = True\n",
    "        if not flag:\n",
    "            print(item)\n",
    "    \n",
    "    if \"Terminating job\" in item:\n",
    "        if not termination_time:\n",
    "            termination_time = t"
   ]
  },
  {
   "cell_type": "code",
   "execution_count": 8,
   "metadata": {},
   "outputs": [
    {
     "name": "stdout",
     "output_type": "stream",
     "text": [
      "{'0': {'submitted': datetime.datetime(2019, 4, 8, 12, 31, 41, 817000), 'set': datetime.datetime(2019, 4, 8, 12, 31, 41, 818000), 'launched': datetime.datetime(2019, 4, 8, 12, 31, 44, 923000), 'failed': datetime.datetime(2019, 4, 8, 12, 31, 44, 916000), 'marked': datetime.datetime(2019, 4, 8, 12, 31, 44, 920000), 'completed': datetime.datetime(2019, 4, 8, 12, 31, 53, 913000)}, '1': {'submitted': datetime.datetime(2019, 4, 8, 12, 31, 41, 823000), 'set': datetime.datetime(2019, 4, 8, 12, 31, 41, 823000), 'launched': datetime.datetime(2019, 4, 8, 12, 31, 44, 927000), 'failed': datetime.datetime(2019, 4, 8, 12, 31, 44, 924000), 'marked': datetime.datetime(2019, 4, 8, 12, 31, 44, 925000), 'completed': datetime.datetime(2019, 4, 8, 12, 31, 58, 241000)}, '2': {'submitted': datetime.datetime(2019, 4, 8, 12, 31, 41, 827000), 'set': datetime.datetime(2019, 4, 8, 12, 31, 41, 828000), 'launched': datetime.datetime(2019, 4, 8, 12, 31, 41, 846000), 'failed': None, 'marked': None, 'completed': datetime.datetime(2019, 4, 8, 12, 31, 45, 907000)}, '3': {'submitted': datetime.datetime(2019, 4, 8, 12, 31, 41, 846000), 'set': datetime.datetime(2019, 4, 8, 12, 31, 41, 847000), 'launched': datetime.datetime(2019, 4, 8, 12, 31, 41, 849000), 'failed': None, 'marked': None, 'completed': datetime.datetime(2019, 4, 8, 12, 31, 45, 906000)}, '4': {'submitted': datetime.datetime(2019, 4, 8, 12, 31, 41, 850000), 'set': datetime.datetime(2019, 4, 8, 12, 31, 41, 851000), 'launched': datetime.datetime(2019, 4, 8, 12, 31, 44, 930000), 'failed': datetime.datetime(2019, 4, 8, 12, 31, 44, 927000), 'marked': datetime.datetime(2019, 4, 8, 12, 31, 44, 928000), 'completed': datetime.datetime(2019, 4, 8, 12, 31, 58, 242000)}, '5': {'submitted': datetime.datetime(2019, 4, 8, 12, 31, 41, 854000), 'set': datetime.datetime(2019, 4, 8, 12, 31, 41, 855000), 'launched': datetime.datetime(2019, 4, 8, 12, 31, 41, 858000), 'failed': None, 'marked': None, 'completed': datetime.datetime(2019, 4, 8, 12, 31, 49, 906000)}, '6': {'submitted': datetime.datetime(2019, 4, 8, 12, 31, 41, 859000), 'set': datetime.datetime(2019, 4, 8, 12, 31, 41, 860000), 'launched': datetime.datetime(2019, 4, 8, 12, 31, 41, 863000), 'failed': None, 'marked': None, 'completed': datetime.datetime(2019, 4, 8, 12, 31, 49, 907000)}, '7': {'submitted': datetime.datetime(2019, 4, 8, 12, 31, 41, 864000), 'set': datetime.datetime(2019, 4, 8, 12, 31, 41, 866000), 'launched': datetime.datetime(2019, 4, 8, 12, 31, 41, 868000), 'failed': None, 'marked': None, 'completed': datetime.datetime(2019, 4, 8, 12, 31, 53, 912000)}}\n"
     ]
    }
   ],
   "source": [
    "print(tasks)"
   ]
  },
  {
   "cell_type": "code",
   "execution_count": 10,
   "metadata": {},
   "outputs": [
    {
     "data": {
      "image/png": "[encoded data removed]",
      "text/plain": [
       "<Figure size 432x288 with 1 Axes>"
      ]
     },
     "metadata": {},
     "output_type": "display_data"
    }
   ],
   "source": [
    "font = {#'family' : 'normal',                                                                                                                                                                                                              \n",
    "        #'weight' : 'bold',                                                                                                                                                                                                                    \n",
    "            'size'   : 14}\n",
    "\n",
    "matplotlib.rc('font', **font)\n",
    "\n",
    "f, jobs    = plt.subplots(1, sharex=True)\n",
    "# plt.legend(loc=0, ncol=2,  fancybox=1, framealpha=0.8)\n",
    "launched     = jobs.hlines(range(0, len(tasks)) ,\n",
    "                           [tasks[x]['submitted'] for x in tasks],\n",
    "                           [tasks[x]['launched'] for x in tasks],\n",
    "                           label='Submitted',\n",
    "                           colors='#4166f5',\n",
    "                           antialiased=True,\n",
    "                           linewidth=3.0)\n",
    "\n",
    "running     = jobs.hlines(range(0, len(tasks)) ,\n",
    "                         [tasks[x]['submitted'] for x in tasks],\n",
    "                         [tasks[x]['launched'] for x in tasks],\n",
    "                         label='Submitted',\n",
    "                         colors='#4166f5',\n",
    "                         antialiased=True,\n",
    "                         linewidth=3.0)\n",
    "\n"
   ]
  },
  {
   "cell_type": "code",
   "execution_count": null,
   "metadata": {},
   "outputs": [],
   "source": [
    "for x in tasks:\n",
    "    print(tasks[x]['submitted'])"
   ]
  }
 ],
 "metadata": {
  "kernelspec": {
   "display_name": "Python 3",
   "language": "python",
   "name": "python3"
  },
  "language_info": {
   "codemirror_mode": {
    "name": "ipython",
    "version": 3
   },
   "file_extension": ".py",
   "mimetype": "text/x-python",
   "name": "python",
   "nbconvert_exporter": "python",
   "pygments_lexer": "ipython3",
   "version": "3.6.8"
  }
 },
 "nbformat": 4,
 "nbformat_minor": 2
}
