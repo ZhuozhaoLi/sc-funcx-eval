{
 "cells": [
  {
   "cell_type": "code",
   "execution_count": 24,
   "metadata": {},
   "outputs": [],
   "source": [
    "import os\n",
    "import re\n",
    "from datetime import datetime\n",
    "import matplotlib\n",
    "import matplotlib.pyplot as plt\n",
    "\n",
    "import seaborn as sns\n",
    "\n",
    "#sns.set(style='white',color_codes=False)\n",
    "#sns.set_style(\"ticks\")"
   ]
  },
  {
   "cell_type": "code",
   "execution_count": 2,
   "metadata": {},
   "outputs": [],
   "source": [
    "last_rundir = sorted(os.listdir('runinfo'))[-1]\n",
    "\n",
    "logdata = None\n",
    "with open(\"runinfo/{}/parsl.log\".format(last_rundir)) as f:\n",
    "    logdata = f.readlines()"
   ]
  },
  {
   "cell_type": "code",
   "execution_count": 3,
   "metadata": {},
   "outputs": [],
   "source": [
    "i_logs = None\n",
    "with open(\"runinfo/{}/htex_local/interchange.log\".format(last_rundir)) as f:\n",
    "    i_logs = f.readlines()"
   ]
  },
  {
   "cell_type": "code",
   "execution_count": 4,
   "metadata": {},
   "outputs": [
    {
     "name": "stdout",
     "output_type": "stream",
     "text": [
      "2019-04-08 16:22:51.756 interchange:356 [INFO]  [MAIN] Registration info for manager b'83cbc49b5ae2': {'parsl_v': '0.7.2', 'python_v': '3.6.8', 'os': 'Linux', 'hname': 'borgmachine2', 'dir': '/home/yadu/src/sc-funcx-eval/fault_tolerance'}\n",
      "\n",
      "2019-04-08 16:22:51.794 interchange:356 [INFO]  [MAIN] Registration info for manager b'063694a932a0': {'parsl_v': '0.7.2', 'python_v': '3.6.8', 'os': 'Linux', 'hname': 'borgmachine2', 'dir': '/home/yadu/src/sc-funcx-eval/fault_tolerance'}\n",
      "\n",
      "2019-04-08 16:22:55.966 interchange:356 [INFO]  [MAIN] Registration info for manager b'f274d26aa50d': {'parsl_v': '0.7.2', 'python_v': '3.6.8', 'os': 'Linux', 'hname': 'borgmachine2', 'dir': '/home/yadu/src/sc-funcx-eval/fault_tolerance'}\n",
      "\n",
      "2019-04-08 16:22:57.100 interchange:452 [WARNING]  [MAIN] Too many heartbeats missed for manager b'83cbc49b5ae2'\n",
      "\n"
     ]
    }
   ],
   "source": [
    "flag = False\n",
    "for i in i_logs:\n",
    "    if \"Too many heartbeats missed\" in i:\n",
    "        print(i)\n",
    "        flag = True\n",
    "    if \"Registration\" in i:\n",
    "        print(i)"
   ]
  },
  {
   "cell_type": "code",
   "execution_count": 5,
   "metadata": {},
   "outputs": [],
   "source": [
    "tasks = {}\n",
    "termination_time = None\n",
    "for item in logdata:\n",
    "    if \"Task \" in item:        \n",
    "        t = datetime.strptime(item[:23], '%Y-%m-%d %H:%M:%S.%f')\n",
    "        task_id = item.split(\"Task\")[1].split()[0]\n",
    "        if task_id not in tasks:\n",
    "            tasks[task_id] = {'submitted':None,\n",
    "                              'set':None, # Pending\n",
    "                              'launched':None,\n",
    "                              'failed':None,\n",
    "                              'marked':None,\n",
    "                              'completed':None\n",
    "                             }        \n",
    "        \n",
    "        flag = False\n",
    "        for kind in [\"submitted\", \"set\", \"launched\", \"failed\", \"marked\", \"completed\"]:\n",
    "            if kind in item:\n",
    "                tasks[task_id][kind] = t\n",
    "                flag = True\n",
    "        if not flag:\n",
    "            print(item)\n",
    "    \n",
    "    if \"Terminating job\" in item:\n",
    "        if not termination_time:\n",
    "            termination_time = t"
   ]
  },
  {
   "cell_type": "code",
   "execution_count": 6,
   "metadata": {},
   "outputs": [],
   "source": [
    "for task in tasks:\n",
    "    if not tasks[task][\"failed\"]:\n",
    "        tasks[task][\"failed\"] = tasks[task][\"completed\"]\n",
    "    "
   ]
  },
  {
   "cell_type": "code",
   "execution_count": 7,
   "metadata": {},
   "outputs": [
    {
     "name": "stdout",
     "output_type": "stream",
     "text": [
      "2019-04-08 16:22:55.098000\n"
     ]
    }
   ],
   "source": [
    "print(termination_time)\n",
    "restart_time = datetime.strptime('2019-04-08 16:22:55.966', '%Y-%m-%d %H:%M:%S.%f')\n",
    "termination_time = (termination_time - tasks['0']['submitted']).total_seconds()\n",
    "restart_time = (restart_time - tasks['0']['submitted']).total_seconds()"
   ]
  },
  {
   "cell_type": "code",
   "execution_count": 45,
   "metadata": {},
   "outputs": [
    {
     "name": "stdout",
     "output_type": "stream",
     "text": [
      "Done\n"
     ]
    },
    {
     "data": {
      "image/png": "[encoded data removed]",
      "text/plain": [
       "<Figure size 432x216 with 1 Axes>"
      ]
     },
     "metadata": {},
     "output_type": "display_data"
    }
   ],
   "source": [
    "font = {#'family' : 'normal',                                                                                                                                                                                                              \n",
    "        #'weight' : 'bold',                                                                                                                                                                                                                    \n",
    "            'size'   : 14}\n",
    "\n",
    "matplotlib.rc('font', **font)\n",
    "\n",
    "\"\"\"\n",
    "f, jobs    = plt.subplots(1, sharex=True)\n",
    "# plt.legend(loc=0, ncol=2,  fancybox=1, framealpha=0.8)\n",
    "launched     = jobs.hlines(range(0, len(tasks)) ,\n",
    "                           [tasks[x]['submitted'] for x in tasks],\n",
    "                           [tasks[x]['completed'] for x in tasks],\n",
    "                           label='Submitted',\n",
    "                           colors='#4166f5',\n",
    "                           antialiased=True,\n",
    "                           linewidth=3.0)\n",
    "\n",
    "retried     = jobs.hlines(range(0, len(tasks)) ,\n",
    "                           [tasks[x]['failed'] for x in tasks],\n",
    "                           [tasks[x]['completed'] for x in tasks],\n",
    "                           label='Retry',\n",
    "                           colors='#f54166',\n",
    "                           antialiased=True,\n",
    "                           linewidth=3.0)\n",
    "\"\"\"\n",
    "import numpy as np\n",
    "\n",
    "def moving_average(a, n=5) :\n",
    "    ret = np.cumsum(a, dtype=float)\n",
    "    ret[n:] = ret[n:] - ret[:-n]\n",
    "    return ret[n - 1:] / n\n",
    "\n",
    "\n",
    "latencies = [(tasks[t]['completed'] - tasks[t]['submitted']).total_seconds() for t in tasks]\n",
    "\n",
    "mov_avg_latencies = moving_average(latencies)\n",
    "\n",
    "time_deltas = [(tasks[t]['submitted'] - tasks['0']['submitted']).total_seconds() for t in tasks]\n",
    "\n",
    "fig, ax = plt.subplots(figsize=(6, 3))\n",
    "ax.vlines(termination_time, 0, 2.5, color='red', label='Manager lost', linestyle='--')\n",
    "ax.vlines(restart_time, 0, 2.5, color='green', label='Manager recovered', linestyle='--')\n",
    "ax.bar(time_deltas, latencies, \n",
    "       width=0.08, color='blue', \n",
    "       alpha=1)\n",
    "ax.set_xlabel('Elapsed time (s)', fontsize=14)\n",
    "ax.set_ylabel('Latency (s)', fontsize=14)\n",
    "ax.legend(loc='upper right', bbox_to_anchor=(1.03, 1),\n",
    "          ncol=1, fancybox=0, framealpha=0.8, fontsize=13)\n",
    "ax.tick_params(axis='both', which='major', labelsize=13, labelcolor='black')\n",
    "ax.set_ylim(0, 2.5)\n",
    "#plt.xticks([tasks[t]['submitted'] for t in tasks][::20], \n",
    "           #[tasks[t]['submitted'] for t in tasks][::20], rotation='vertical')\n",
    "print(\"Done\")\n",
    "plt.savefig('png/fault-tolerance.png', bbox_inches = \"tight\", dpi=1000)\n"
   ]
  },
  {
   "cell_type": "code",
   "execution_count": 9,
   "metadata": {},
   "outputs": [
    {
     "ename": "SyntaxError",
     "evalue": "invalid syntax (<ipython-input-9-98a827fb5475>, line 3)",
     "output_type": "error",
     "traceback": [
      "\u001b[0;36m  File \u001b[0;32m\"<ipython-input-9-98a827fb5475>\"\u001b[0;36m, line \u001b[0;32m3\u001b[0m\n\u001b[0;31m    print(latencies[0]+mov_avg_latencies)+latencies[-1])\u001b[0m\n\u001b[0m                                                       ^\u001b[0m\n\u001b[0;31mSyntaxError\u001b[0m\u001b[0;31m:\u001b[0m invalid syntax\n"
     ]
    }
   ],
   "source": [
    "latencies = [(tasks[t]['completed'] - tasks[t]['submitted']).total_seconds() for t in tasks]\n",
    "print(len(latencies))\n",
    "print(latencies[0]+mov_avg_latencies)+latencies[-1])"
   ]
  }
 ],
 "metadata": {
  "kernelspec": {
   "display_name": "Python 3",
   "language": "python",
   "name": "python3"
  },
  "language_info": {
   "codemirror_mode": {
    "name": "ipython",
    "version": 3
   },
   "file_extension": ".py",
   "mimetype": "text/x-python",
   "name": "python",
   "nbconvert_exporter": "python",
   "pygments_lexer": "ipython3",
   "version": "3.6.8"
  }
 },
 "nbformat": 4,
 "nbformat_minor": 2
}
