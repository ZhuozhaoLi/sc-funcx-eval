{
 "cells": [
  {
   "cell_type": "code",
   "execution_count": 1,
   "metadata": {},
   "outputs": [],
   "source": [
    "import matplotlib.pyplot as plt\n",
    "import numpy as np\n",
    "import pandas as pd\n",
    "import re\n",
    "import sqlite3\n",
    "import seaborn as sns\n",
    "import collections\n",
    "\n",
    "\n",
    "sns.set(style='white', palette=\"Set2\", color_codes=False)\n",
    "sns.set_style(\"ticks\")\n",
    "\n",
    "%matplotlib inline"
   ]
  },
  {
   "cell_type": "code",
   "execution_count": 2,
   "metadata": {},
   "outputs": [],
   "source": [
    "def get_dataframes(query, databases):\n",
    "    dataframes = []\n",
    "    for database in databases:\n",
    "        db = sqlite3.connect(database)\n",
    "        dataframes += [pd.read_sql_query(query, db)]\n",
    "    return pd.concat(dataframes)"
   ]
  },
  {
   "cell_type": "code",
   "execution_count": 3,
   "metadata": {},
   "outputs": [],
   "source": [
    "query = 'select * from tasks;'\n",
    "databases = [             \n",
    "             'data.db'\n",
    "             ]\n",
    "tasks = get_dataframes(query, databases)"
   ]
  },
  {
   "cell_type": "code",
   "execution_count": 4,
   "metadata": {},
   "outputs": [],
   "source": [
    "query = 'select * from pods;'\n",
    "databases = [             \n",
    "             'data.db'\n",
    "             ]\n",
    "pods = get_dataframes(query, databases)"
   ]
  },
  {
   "cell_type": "code",
   "execution_count": 5,
   "metadata": {},
   "outputs": [
    {
     "name": "stdout",
     "output_type": "stream",
     "text": [
      "1579586747 1579587128\n"
     ]
    }
   ],
   "source": [
    "start = min(int(tasks['start_submit'].min()), int(pods['timestamp'].min()))\n",
    "end = max(int(tasks['start_submit'].max()), int(pods['timestamp'].max()))\n",
    "print(start, end)"
   ]
  },
  {
   "cell_type": "code",
   "execution_count": 6,
   "metadata": {},
   "outputs": [
    {
     "data": {
      "text/html": [
       "<div>\n",
       "<style scoped>\n",
       "    .dataframe tbody tr th:only-of-type {\n",
       "        vertical-align: middle;\n",
       "    }\n",
       "\n",
       "    .dataframe tbody tr th {\n",
       "        vertical-align: top;\n",
       "    }\n",
       "\n",
       "    .dataframe thead th {\n",
       "        text-align: right;\n",
       "    }\n",
       "</style>\n",
       "<table border=\"1\" class=\"dataframe\">\n",
       "  <thead>\n",
       "    <tr style=\"text-align: right;\">\n",
       "      <th></th>\n",
       "      <th>platform</th>\n",
       "      <th>start_submit</th>\n",
       "      <th>returned</th>\n",
       "      <th>num_workers</th>\n",
       "      <th>tasks_per_trial</th>\n",
       "      <th>task_type</th>\n",
       "      <th>failed</th>\n",
       "      <th>start</th>\n",
       "      <th>end</th>\n",
       "    </tr>\n",
       "  </thead>\n",
       "  <tbody>\n",
       "    <tr>\n",
       "      <th>0</th>\n",
       "      <td>kube</td>\n",
       "      <td>1.579587e+09</td>\n",
       "      <td>1.579587e+09</td>\n",
       "      <td>64</td>\n",
       "      <td>20</td>\n",
       "      <td>sleep-1</td>\n",
       "      <td>0</td>\n",
       "      <td>0.266732</td>\n",
       "      <td>21.282672</td>\n",
       "    </tr>\n",
       "    <tr>\n",
       "      <th>1</th>\n",
       "      <td>kube</td>\n",
       "      <td>1.579587e+09</td>\n",
       "      <td>1.579587e+09</td>\n",
       "      <td>64</td>\n",
       "      <td>20</td>\n",
       "      <td>sleep-10</td>\n",
       "      <td>0</td>\n",
       "      <td>0.267638</td>\n",
       "      <td>30.534315</td>\n",
       "    </tr>\n",
       "    <tr>\n",
       "      <th>2</th>\n",
       "      <td>kube</td>\n",
       "      <td>1.579587e+09</td>\n",
       "      <td>1.579587e+09</td>\n",
       "      <td>64</td>\n",
       "      <td>20</td>\n",
       "      <td>sleep-10</td>\n",
       "      <td>0</td>\n",
       "      <td>0.267903</td>\n",
       "      <td>31.496880</td>\n",
       "    </tr>\n",
       "    <tr>\n",
       "      <th>3</th>\n",
       "      <td>kube</td>\n",
       "      <td>1.579587e+09</td>\n",
       "      <td>1.579587e+09</td>\n",
       "      <td>64</td>\n",
       "      <td>20</td>\n",
       "      <td>sleep-10</td>\n",
       "      <td>0</td>\n",
       "      <td>0.268145</td>\n",
       "      <td>33.967785</td>\n",
       "    </tr>\n",
       "    <tr>\n",
       "      <th>4</th>\n",
       "      <td>kube</td>\n",
       "      <td>1.579587e+09</td>\n",
       "      <td>1.579587e+09</td>\n",
       "      <td>64</td>\n",
       "      <td>20</td>\n",
       "      <td>sleep-10</td>\n",
       "      <td>0</td>\n",
       "      <td>0.268411</td>\n",
       "      <td>35.172220</td>\n",
       "    </tr>\n",
       "  </tbody>\n",
       "</table>\n",
       "</div>"
      ],
      "text/plain": [
       "  platform  start_submit      returned  num_workers  tasks_per_trial  \\\n",
       "0     kube  1.579587e+09  1.579587e+09           64               20   \n",
       "1     kube  1.579587e+09  1.579587e+09           64               20   \n",
       "2     kube  1.579587e+09  1.579587e+09           64               20   \n",
       "3     kube  1.579587e+09  1.579587e+09           64               20   \n",
       "4     kube  1.579587e+09  1.579587e+09           64               20   \n",
       "\n",
       "  task_type  failed     start        end  \n",
       "0   sleep-1       0  0.266732  21.282672  \n",
       "1  sleep-10       0  0.267638  30.534315  \n",
       "2  sleep-10       0  0.267903  31.496880  \n",
       "3  sleep-10       0  0.268145  33.967785  \n",
       "4  sleep-10       0  0.268411  35.172220  "
      ]
     },
     "execution_count": 6,
     "metadata": {},
     "output_type": "execute_result"
    }
   ],
   "source": [
    "tasks['start'] = tasks['start_submit'] - start\n",
    "tasks['end'] = tasks['returned'] - start\n",
    "pods['time'] = pods['timestamp'] - start\n",
    "tasks.head()"
   ]
  },
  {
   "cell_type": "code",
   "execution_count": 25,
   "metadata": {},
   "outputs": [
    {
     "data": {
      "image/png": "[encoded data removed]",
      "text/plain": [
       "<Figure size 792x288 with 1 Axes>"
      ]
     },
     "metadata": {
      "needs_background": "light"
     },
     "output_type": "display_data"
    }
   ],
   "source": [
    "task_types = list(tasks['task_type'].unique())\n",
    "pod_types = ['noop_0', 'noop_1', 'noop_10']\n",
    "task_dist = {}\n",
    "pod_dist = {}\n",
    "for task_type in task_types:\n",
    "    df1 = tasks[tasks['task_type'] == task_type]\n",
    "    task_dist[task_type] = [0] * (end - start + 1)\n",
    "    pod_dist[task_type] = [0] * (end - start + 1)\n",
    "    for i, row in df1.iterrows():\n",
    "        for j in range(int(row['start']) + 1, int(row['end'])):\n",
    "            task_dist[task_type][j] += 1\n",
    "\n",
    "for i, row in pods.iterrows():\n",
    "    last = 0\n",
    "    for j in range(len(pod_types)):\n",
    "        pod_dist[task_types[j]][int(row['time'])] = row[pod_types[j]]\n",
    "        \n",
    "fig, ax = plt.subplots(figsize=(11,4))\n",
    "for i, type in enumerate(task_types):\n",
    "    plt.plot(list(range(end - start + 1)), \n",
    "             task_dist[type], \n",
    "             label='{}s function'.format(type.strip('sleep-')),\n",
    "             c=sns.color_palette()[i],\n",
    "             linewidth=2)\n",
    "    plt.plot(list(range(end - start + 1)), \n",
    "             pod_dist[type], \n",
    "             label='{}s pod'.format(type.strip('sleep-')), \n",
    "             c=sns.color_palette()[i],\n",
    "             linewidth=2,\n",
    "             linestyle='--')\n",
    "legend = plt.legend(loc='upper right', \n",
    "                    ncol=1, \n",
    "                    bbox_to_anchor=(1, 1.05), \n",
    "                    columnspacing=-0.2,\n",
    "                    labelspacing=0.15,\n",
    "                    fancybox=True, frameon=True, fontsize=15, framealpha=0)\n",
    "plt.setp(legend.get_texts(), color='black')\n",
    "legend.get_frame().set_edgecolor('black')\n",
    "legend.get_frame().set_linewidth(1)\n",
    "#ax.set_xlim(0, 450)\n",
    "ax.tick_params(axis='y', which='minor')\n",
    "ax.tick_params(axis='both', which='major', pad=0, labelsize=17, labelcolor='black')\n",
    "ax.set_ylabel('Concurrent functions/pods', fontsize=17, color='black')\n",
    "ax.set_xlabel('Elapsed time (s)', labelpad=0, fontsize=17, color='black')\n",
    "plt.savefig('elasticity.png', \n",
    "            bbox_inches = \"tight\", \n",
    "            dpi=1000)\n"
   ]
  },
  {
   "cell_type": "code",
   "execution_count": null,
   "metadata": {},
   "outputs": [],
   "source": []
  },
  {
   "cell_type": "code",
   "execution_count": null,
   "metadata": {},
   "outputs": [],
   "source": []
  }
 ],
 "metadata": {
  "kernelspec": {
   "display_name": "Python (funcx-test)",
   "language": "python",
   "name": "funcx-test"
  },
  "language_info": {
   "codemirror_mode": {
    "name": "ipython",
    "version": 3
   },
   "file_extension": ".py",
   "mimetype": "text/x-python",
   "name": "python",
   "nbconvert_exporter": "python",
   "pygments_lexer": "ipython3",
   "version": "3.6.8"
  }
 },
 "nbformat": 4,
 "nbformat_minor": 2
}
