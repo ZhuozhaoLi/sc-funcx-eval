{
 "cells": [
  {
   "cell_type": "code",
   "execution_count": 1,
   "metadata": {},
   "outputs": [],
   "source": [
    "import matplotlib.pyplot as plt\n",
    "import numpy as np\n",
    "import pandas as pd\n",
    "import re\n",
    "import sqlite3\n",
    "import seaborn as sns\n",
    "\n",
    "sns.set(style='white', palette=\"Set2\", color_codes=False)\n",
    "sns.set_style(\"ticks\")\n",
    "\n",
    "%matplotlib inline"
   ]
  },
  {
   "cell_type": "code",
   "execution_count": 2,
   "metadata": {},
   "outputs": [],
   "source": [
    "def get_dataframes(query, databases):\n",
    "    dataframes = []\n",
    "    for database in databases:\n",
    "        db = sqlite3.connect(database)\n",
    "        dataframes += [pd.read_sql_query(query, db)]\n",
    "    return pd.concat(dataframes)"
   ]
  },
  {
   "cell_type": "code",
   "execution_count": null,
   "metadata": {},
   "outputs": [],
   "source": []
  },
  {
   "cell_type": "code",
   "execution_count": 3,
   "metadata": {},
   "outputs": [],
   "source": [
    "query = 'select executor, returned, start_submit, tag from tasks where tag != \"noop\"'\n",
    "databases = [\n",
    "             'data/xtract-data.db', 'data/crystallography-data.db', 'data/mnist-data.db', 'data/xpcs-data.db'\n",
    "]\n",
    "tasks = get_dataframes(query, databases)"
   ]
  },
  {
   "cell_type": "code",
   "execution_count": 4,
   "metadata": {},
   "outputs": [],
   "source": [
    "tasks['completion_time'] = (tasks['returned'] - tasks['start_submit'])\n",
    "# NOTE multiplying by 100 and not 1000 b/c off by factor of 10. \n",
    "tasks.head()\n",
    "tasks['batch_size'] = tasks.tag.str.extract('(\\d+)')\n",
    "tasks['task_time'] = tasks.completion_time / tasks.batch_size.astype(int)\n",
    "\n",
    "# print(tasks)\n",
    "\n",
    "for index, row in tasks.iterrows():\n",
    "\n",
    "    if row[\"completion_time\"] < 0: \n",
    "        print(\"ERROR\")\n",
    "#     print(row['completion_time'], row['tag'], row['batch_size'], row['task_time'])"
   ]
  },
  {
   "cell_type": "code",
   "execution_count": 5,
   "metadata": {},
   "outputs": [
    {
     "data": {
      "text/plain": [
       "array(['run_20k_file_1', 'run_20k_file_2', 'bash_dials_1', 'bash_dials_5',\n",
       "       'bash_dials_10', 'bash_dials_25', 'bash_dials_50',\n",
       "       'bash_dials_100', 'run_mnist_predict_1', 'bash_corr_1'],\n",
       "      dtype=object)"
      ]
     },
     "execution_count": 5,
     "metadata": {},
     "output_type": "execute_result"
    }
   ],
   "source": [
    "tags = tasks[\"tag\"].unique()\n",
    "tags"
   ]
  },
  {
   "cell_type": "code",
   "execution_count": 6,
   "metadata": {},
   "outputs": [
    {
     "name": "stderr",
     "output_type": "stream",
     "text": [
      "/home/skluzacek/.miniconda3/envs/funcx/lib/python3.6/site-packages/ipykernel_launcher.py:2: SettingWithCopyWarning: \n",
      "A value is trying to be set on a copy of a slice from a DataFrame.\n",
      "Try using .loc[row_indexer,col_indexer] = value instead\n",
      "\n",
      "See the caveats in the documentation: http://pandas.pydata.org/pandas-docs/stable/indexing.html#indexing-view-versus-copy\n",
      "  \n"
     ]
    }
   ],
   "source": [
    "latency_df = tasks[['tag', 'completion_time']]\n",
    "latency_df[\"log_completion_time\"] = np.log10(latency_df[\"completion_time\"])\n",
    "# for index, row in latency_df.iterrows():\n",
    "#     if row[\"completion_time\"] < 0: \n",
    "#         print(\"ERROR\")\n",
    "#     print(index, row['completion_time'], row['tag'])"
   ]
  },
  {
   "cell_type": "code",
   "execution_count": 7,
   "metadata": {},
   "outputs": [
    {
     "name": "stdout",
     "output_type": "stream",
     "text": [
      "0    -0.158049\n",
      "1    -0.155651\n",
      "2    -0.107262\n",
      "3    -0.148296\n",
      "4    -0.163137\n",
      "5    -0.151947\n",
      "6    -0.156847\n",
      "7    -0.167119\n",
      "8    -0.158669\n",
      "9    -0.160016\n",
      "10   -0.163094\n",
      "11   -0.163301\n",
      "12   -0.161289\n",
      "13   -0.147057\n",
      "14   -0.158274\n",
      "15   -0.162037\n",
      "16   -0.162159\n",
      "17   -0.160740\n",
      "18   -0.164362\n",
      "19   -0.161881\n",
      "20   -0.160871\n",
      "21   -0.156424\n",
      "22   -0.151910\n",
      "23   -0.164457\n",
      "24   -0.158798\n",
      "25   -0.165503\n",
      "26   -0.127775\n",
      "27   -0.164498\n",
      "28   -0.156996\n",
      "29   -0.163487\n",
      "        ...   \n",
      "70   -0.161734\n",
      "71   -0.160956\n",
      "72   -0.162772\n",
      "73   -0.161497\n",
      "74   -0.143824\n",
      "75   -0.155964\n",
      "76   -0.160552\n",
      "77   -0.158831\n",
      "78   -0.165782\n",
      "79   -0.163247\n",
      "80   -0.157741\n",
      "81   -0.162410\n",
      "82   -0.156241\n",
      "83   -0.165530\n",
      "84   -0.158919\n",
      "85   -0.156167\n",
      "86   -0.158693\n",
      "87   -0.159467\n",
      "88   -0.159737\n",
      "89   -0.160915\n",
      "90   -0.161581\n",
      "91   -0.163672\n",
      "92   -0.160884\n",
      "93   -0.164953\n",
      "94   -0.158452\n",
      "95   -0.157326\n",
      "96   -0.158584\n",
      "97   -0.164836\n",
      "98   -0.161473\n",
      "99   -0.160678\n",
      "Name: log_completion_time, Length: 100, dtype: float64\n",
      "0.24457622428981504\n"
     ]
    },
    {
     "data": {
      "image/png": "[encoded data removed]",
      "text/plain": [
       "<Figure size 432x288 with 1 Axes>"
      ]
     },
     "metadata": {
      "needs_background": "light"
     },
     "output_type": "display_data"
    }
   ],
   "source": [
    "# print(latency_df)\n",
    "\n",
    "# latency_df[\"completion_time\"] = np.log(latency_df[\"completion_time\"])\n",
    "\n",
    "file_20k_1 = latency_df.loc[(latency_df.tag == \"run_20k_file_1\")]\n",
    "file_20k_1 = file_20k_1[\"log_completion_time\"]\n",
    "print(file_20k_1)\n",
    "\n",
    "bash_dials_1 = latency_df.loc[(latency_df.tag == \"bash_dials_1\")]\n",
    "bash_dials_1 = bash_dials_1[\"log_completion_time\"]\n",
    "\n",
    "bash_dials_50 = latency_df.loc[(latency_df.tag == \"bash_dials_50\")]\n",
    "bash_dials_50 = bash_dials_50[\"log_completion_time\"]\n",
    "\n",
    "bash_corr_1 = latency_df.loc[(latency_df.tag == \"bash_corr_1\")]\n",
    "bash_corr_1 = bash_corr_1[\"log_completion_time\"]\n",
    "\n",
    "mnist_predict_1 = latency_df.loc[(latency_df.tag == \"run_mnist_predict_1\")]\n",
    "mnist_predict_1 = mnist_predict_1[\"log_completion_time\"]\n",
    "print(np.mean(mnist_predict_1))\n",
    "\n",
    "ax1 = sns.distplot(file_20k_1, kde_kws={\"lw\": 1, \"label\": \"xtract_20k_file\"}, norm_hist=True)\n",
    "ax2 = sns.distplot(bash_dials_1, kde_kws={\"lw\": 1, \"label\": \"crystal_dials_1\"}, norm_hist=True)\n",
    "ax3 = sns.distplot(bash_dials_50, kde_kws={\"lw\": 1, \"label\": \"crystal_dials_50\"}, norm_hist=True)\n",
    "ax4 = sns.distplot(bash_corr_1, kde_kws={\"lw\": 1, \"label\": \"xpcs_corr_1\"}, norm_hist=True)\n",
    "ax5 = sns.distplot(mnist_predict_1, kde_kws={\"lw\": 1, \"label\": \"mnist_predict_1\"}, norm_hist=True)\n",
    "ax1.set(xlabel = \"Log(Completion_Time, base 10) (s)\", ylabel=\"Density(%)\")\n",
    "\n",
    "\n",
    "ax1.ticklabel_format(axis='x', style='sci', scilimits=(0,0))\n",
    "# plt.show()\n",
    "plt.savefig('use-cases.jpg', dpi=1000)\n",
    "\n",
    "# run_mnist_predict_1"
   ]
  },
  {
   "cell_type": "code",
   "execution_count": 8,
   "metadata": {},
   "outputs": [],
   "source": [
    "# bash_dials_25 = latency_df.loc[(latency_df.tag == \"bash_dials_25\")]\n",
    "# bash_dials_50 = latency_df.loc[(latency_df.tag == \"bash_dials_50\")]\n",
    "\n",
    "\n",
    "# print(np.mean(file_20k_1[\"completion_time\"]))\n"
   ]
  },
  {
   "cell_type": "code",
   "execution_count": null,
   "metadata": {},
   "outputs": [],
   "source": []
  }
 ],
 "metadata": {
  "kernelspec": {
   "display_name": "Python 3",
   "language": "python",
   "name": "python3"
  },
  "language_info": {
   "codemirror_mode": {
    "name": "ipython",
    "version": 3
   },
   "file_extension": ".py",
   "mimetype": "text/x-python",
   "name": "python",
   "nbconvert_exporter": "python",
   "pygments_lexer": "ipython3",
   "version": "3.6.8"
  },
  "widgets": {
   "application/vnd.jupyter.widget-state+json": {
    "state": {},
    "version_major": 2,
    "version_minor": 0
   }
  }
 },
 "nbformat": 4,
 "nbformat_minor": 2
}
