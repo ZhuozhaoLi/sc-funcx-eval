{
 "cells": [
  {
   "cell_type": "code",
   "execution_count": 1,
   "metadata": {},
   "outputs": [],
   "source": [
    "import os"
   ]
  },
  {
   "cell_type": "code",
   "execution_count": 2,
   "metadata": {},
   "outputs": [],
   "source": [
    "def parse_and_stat(fname):\n",
    "    data = None\n",
    "    with open(fname) as f:\n",
    "        data = [i.strip() for i in f.readlines()]\n",
    "\n",
    "    raw = [i for i in data if i.startswith('real')]\n",
    "    reals = [float(i.split('m')[1].strip('s')) for i in raw]\n",
    "    return reals"
   ]
  },
  {
   "cell_type": "code",
   "execution_count": 3,
   "metadata": {},
   "outputs": [
    {
     "name": "stdout",
     "output_type": "stream",
     "text": [
      "[31.26, 8.174, 7.964, 9.085, 8.794, 8.439, 8.066, 8.693, 7.449, 8.299, 7.898, 7.722, 8.247, 7.813, 7.903, 8.143, 7.636, 7.564, 7.421, 7.657, 7.772, 7.461, 8.819, 8.617, 7.655, 8.592, 8.419, 7.653, 7.986, 7.971, 8.342, 8.203, 8.052, 7.702, 8.505, 8.143, 7.601, 7.316, 7.685, 7.525, 7.417, 7.396, 8.779, 11.921, 8.915, 9.081, 8.517, 8.846, 11.646, 7.358, 7.431, 7.673, 7.332, 7.52, 7.432, 11.041, 7.291, 7.373, 7.286, 7.622, 7.711, 15.955, 7.516, 7.449, 7.574, 7.532, 7.561, 7.555, 7.513, 11.464, 7.331, 7.537, 7.55, 7.319, 7.601, 7.56, 10.495, 7.259, 7.452, 7.349, 7.338, 7.474, 7.37, 11.179, 7.256, 7.274, 7.679, 7.253, 7.577, 7.368, 11.802, 8.753, 8.76, 8.262, 8.423, 8.401, 14.243, 8.493, 8.08, 8.389]\n"
     ]
    }
   ],
   "source": [
    "reals = parse_and_stat('shifter_cold_start.txt')\n",
    "print(reals)"
   ]
  },
  {
   "cell_type": "code",
   "execution_count": 4,
   "metadata": {},
   "outputs": [
    {
     "name": "stdout",
     "output_type": "stream",
     "text": [
      "Shifter\n",
      "Min: 7.253s\n",
      "Max: 31.26s\n",
      "Avg: 8.4878s\n"
     ]
    }
   ],
   "source": [
    "print(\"Shifter\")\n",
    "print(\"Min: {}s\".format(min(reals)))\n",
    "print(\"Max: {}s\".format(max(reals)))\n",
    "print(\"Avg: {}s\".format(sum(reals) / len(reals)))"
   ]
  },
  {
   "cell_type": "code",
   "execution_count": 5,
   "metadata": {},
   "outputs": [
    {
     "name": "stdout",
     "output_type": "stream",
     "text": [
      "Docker\n",
      "Min: 1.758s\n",
      "Max: 2.277s\n",
      "Avg: 1.92088s\n"
     ]
    }
   ],
   "source": [
    "reals = parse_and_stat('docker_cold_start.txt')\n",
    "# print(reals)\n",
    "print(\"Docker\")\n",
    "print(\"Min: {}s\".format(min(reals)))\n",
    "print(\"Max: {}s\".format(max(reals)))\n",
    "print(\"Avg: {}s\".format(sum(reals) / len(reals)))"
   ]
  },
  {
   "cell_type": "code",
   "execution_count": 6,
   "metadata": {},
   "outputs": [
    {
     "name": "stdout",
     "output_type": "stream",
     "text": [
      "Docker\n",
      "Min: 9.835s\n",
      "Max: 14.066s\n",
      "Avg: 10.405830000000002s\n"
     ]
    }
   ],
   "source": [
    "reals = parse_and_stat('theta_singularity.txt')\n",
    "# print(reals)\n",
    "print(\"Docker\")\n",
    "print(\"Min: {}s\".format(min(reals)))\n",
    "print(\"Max: {}s\".format(max(reals)))\n",
    "print(\"Avg: {}s\".format(sum(reals) / len(reals)))"
   ]
  },
  {
   "cell_type": "code",
   "execution_count": 11,
   "metadata": {},
   "outputs": [
    {
     "name": "stdout",
     "output_type": "stream",
     "text": [
      "Docker\n",
      "Min: 1.736s\n",
      "Max: 1.881s\n",
      "Avg: 1.792269999999999s\n"
     ]
    }
   ],
   "source": [
    "reals = parse_and_stat('docker_ec2_m5_large.txt')\n",
    "# print(reals)\n",
    "print(\"Docker\")\n",
    "print(\"Min: {}s\".format(min(reals)))\n",
    "print(\"Max: {}s\".format(max(reals)))\n",
    "print(\"Avg: {}s\".format(sum(reals) / len(reals)))"
   ]
  },
  {
   "cell_type": "code",
   "execution_count": 12,
   "metadata": {},
   "outputs": [
    {
     "name": "stdout",
     "output_type": "stream",
     "text": [
      "Docker\n",
      "Min: 1.188s\n",
      "Max: 1.256s\n",
      "Avg: 1.2169799999999993s\n"
     ]
    }
   ],
   "source": [
    "reals = parse_and_stat('singularity_ec2_cold_start.txt')\n",
    "# print(reals)\n",
    "print(\"Docker\")\n",
    "print(\"Min: {}s\".format(min(reals)))\n",
    "print(\"Max: {}s\".format(max(reals)))\n",
    "print(\"Avg: {}s\".format(sum(reals) / len(reals)))"
   ]
  },
  {
   "cell_type": "code",
   "execution_count": 1,
   "metadata": {},
   "outputs": [],
   "source": [
    "def parse_docker(fname):\n",
    "    data = None\n",
    "    with open(fname) as f:\n",
    "        data = [i.strip() for i in f.readlines()]\n",
    "\n",
    "    raw = [i for i in data if i.startswith('Cold start time')]\n",
    "    reals = [float(i.split(':')[1].strip('s')) for i in raw]\n",
    "    return reals"
   ]
  },
  {
   "cell_type": "code",
   "execution_count": 2,
   "metadata": {},
   "outputs": [
    {
     "name": "stdout",
     "output_type": "stream",
     "text": [
      "[2.311, 2.298, 2.289, 2.283, 2.31, 2.288, 2.307, 2.254, 2.283, 2.282, 2.279, 2.308, 2.297, 2.299, 2.289, 2.302, 2.314, 2.294, 2.327, 2.284, 2.308, 2.28, 2.295, 2.302, 2.292, 2.315, 2.311, 2.312, 2.283, 2.291, 2.329, 2.304, 2.327, 2.333, 2.305, 2.28, 2.271, 2.286, 2.274, 2.267, 2.291, 2.29, 2.26, 2.278, 2.31, 2.293, 2.3, 2.3, 2.317, 2.291, 2.295, 2.295, 2.268, 2.268, 2.29, 2.294, 2.294, 2.314, 2.286, 2.294, 2.286, 2.279, 2.313, 2.279, 2.301, 2.271, 2.3, 2.269, 2.299, 2.306, 2.312, 2.293, 2.307, 2.246, 2.267, 2.277, 2.288, 2.282, 2.273, 2.275, 2.29, 2.3, 2.321, 2.281, 2.307, 2.276, 2.307, 2.297, 2.292, 2.318, 2.274, 2.281, 2.297, 2.263, 2.294, 2.267, 2.307, 2.253, 2.295, 2.32]\n",
      "Min: 2.246s\n",
      "Max: 2.333s\n",
      "Avg: 2.2925400000000007s\n"
     ]
    }
   ],
   "source": [
    "reals = parse_docker('ec2_singularity_cold_start.txt')\n",
    "print(reals)\n",
    "print(\"Min: {}s\".format(min(reals)))\n",
    "print(\"Max: {}s\".format(max(reals)))\n",
    "print(\"Avg: {}s\".format(sum(reals) / len(reals)))"
   ]
  }
 ],
 "metadata": {
  "kernelspec": {
   "display_name": "Python 3",
   "language": "python",
   "name": "python3"
  },
  "language_info": {
   "codemirror_mode": {
    "name": "ipython",
    "version": 3
   },
   "file_extension": ".py",
   "mimetype": "text/x-python",
   "name": "python",
   "nbconvert_exporter": "python",
   "pygments_lexer": "ipython3",
   "version": "3.6.8"
  }
 },
 "nbformat": 4,
 "nbformat_minor": 2
}
