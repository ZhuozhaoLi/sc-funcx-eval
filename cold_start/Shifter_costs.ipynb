{
 "cells": [
  {
   "cell_type": "code",
   "execution_count": 1,
   "metadata": {},
   "outputs": [],
   "source": [
    "import os"
   ]
  },
  {
   "cell_type": "code",
   "execution_count": 7,
   "metadata": {},
   "outputs": [],
   "source": [
    "data = None\n",
    "with open('shifter_cold_start.txt') as f:\n",
    "    data = [i.strip() for i in f.readlines()]"
   ]
  },
  {
   "cell_type": "code",
   "execution_count": 21,
   "metadata": {},
   "outputs": [],
   "source": [
    "raw = [i for i in data if i.startswith('real')]\n",
    "reals = [float(i.split('m')[1].strip('s')) for i in raw]"
   ]
  },
  {
   "cell_type": "code",
   "execution_count": 23,
   "metadata": {},
   "outputs": [
    {
     "name": "stdout",
     "output_type": "stream",
     "text": [
      "[31.26, 8.174, 7.964, 9.085, 8.794, 8.439, 8.066, 8.693, 7.449, 8.299, 7.898, 7.722, 8.247, 7.813, 7.903, 8.143, 7.636, 7.564, 7.421, 7.657, 7.772, 7.461, 8.819, 8.617, 7.655, 8.592, 8.419, 7.653, 7.986, 7.971, 8.342, 8.203, 8.052, 7.702, 8.505, 8.143, 7.601, 7.316, 7.685, 7.525, 7.417, 7.396, 8.779, 11.921, 8.915, 9.081, 8.517, 8.846, 11.646, 7.358, 7.431, 7.673, 7.332, 7.52, 7.432, 11.041, 7.291, 7.373, 7.286, 7.622, 7.711, 15.955, 7.516, 7.449, 7.574, 7.532, 7.561, 7.555, 7.513, 11.464, 7.331, 7.537, 7.55, 7.319, 7.601, 7.56, 10.495, 7.259, 7.452, 7.349, 7.338, 7.474, 7.37, 11.179, 7.256, 7.274, 7.679, 7.253, 7.577, 7.368, 11.802, 8.753, 8.76, 8.262, 8.423, 8.401, 14.243, 8.493, 8.08, 8.389]\n"
     ]
    }
   ],
   "source": [
    "print(reals)"
   ]
  },
  {
   "cell_type": "code",
   "execution_count": 24,
   "metadata": {},
   "outputs": [
    {
     "name": "stdout",
     "output_type": "stream",
     "text": [
      "Min: 7.253s\n",
      "Max: 31.26s\n",
      "Avg: 8.4878s\n"
     ]
    }
   ],
   "source": [
    "print(\"Min: {}s\".format(min(reals)))\n",
    "print(\"Max: {}s\".format(max(reals)))\n",
    "print(\"Avg: {}s\".format(sum(reals) / len(reals)))"
   ]
  }
 ],
 "metadata": {
  "kernelspec": {
   "display_name": "Python 3",
   "language": "python",
   "name": "python3"
  },
  "language_info": {
   "codemirror_mode": {
    "name": "ipython",
    "version": 3
   },
   "file_extension": ".py",
   "mimetype": "text/x-python",
   "name": "python",
   "nbconvert_exporter": "python",
   "pygments_lexer": "ipython3",
   "version": "3.5.2"
  }
 },
 "nbformat": 4,
 "nbformat_minor": 2
}
