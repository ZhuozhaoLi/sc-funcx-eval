{
 "cells": [
  {
   "cell_type": "code",
   "execution_count": 1,
   "metadata": {},
   "outputs": [],
   "source": [
    "import matplotlib.pyplot as plt\n",
    "import numpy as np\n",
    "import pandas as pd\n",
    "import re\n",
    "import sqlite3\n",
    "import seaborn as sns\n",
    "\n",
    "sns.set(style='white', palette=\"Set2\", color_codes=False)\n",
    "sns.set_style(\"ticks\")\n",
    "\n",
    "%matplotlib inline"
   ]
  },
  {
   "cell_type": "code",
   "execution_count": 2,
   "metadata": {},
   "outputs": [],
   "source": [
    "def get_dataframes(query, databases):\n",
    "    dataframes = []\n",
    "    for database in databases:\n",
    "        db = sqlite3.connect(database)\n",
    "        dataframes += [pd.read_sql_query(query, db)]\n",
    "    return pd.concat(dataframes)"
   ]
  },
  {
   "cell_type": "code",
   "execution_count": null,
   "metadata": {},
   "outputs": [],
   "source": []
  },
  {
   "cell_type": "code",
   "execution_count": 3,
   "metadata": {},
   "outputs": [],
   "source": [
    "query = 'select executor, returned, start_submit, tag from tasks where tag != \"noop\"'\n",
    "databases = [\n",
    "             'data/xtract-data.db', 'data/crystallography-data.db', 'data/mnist-data.db', 'data/xpcs-data.db', 'data/kasthuri-data.db'\n",
    "]\n",
    "tasks = get_dataframes(query, databases)"
   ]
  },
  {
   "cell_type": "code",
   "execution_count": 4,
   "metadata": {},
   "outputs": [],
   "source": [
    "tasks['completion_time'] = (tasks['returned'] - tasks['start_submit'])\n",
    "# NOTE multiplying by 100 and not 1000 b/c off by factor of 10. \n",
    "tasks.head()\n",
    "tasks['batch_size'] = tasks.tag.str.extract('(\\d+)')\n",
    "tasks['task_time'] = tasks.completion_time / tasks.batch_size.astype(int)\n",
    "\n",
    "# print(tasks)\n",
    "\n",
    "for index, row in tasks.iterrows():\n",
    "\n",
    "    if row[\"completion_time\"] < 0: \n",
    "        print(\"ERROR\")\n",
    "#     print(row['completion_time'], row['tag'], row['batch_size'], row['task_time'])"
   ]
  },
  {
   "cell_type": "code",
   "execution_count": 5,
   "metadata": {},
   "outputs": [
    {
     "data": {
      "text/plain": [
       "array(['run_20k_file_1', 'run_20k_file_2', 'bash_dials_1', 'bash_dials_5',\n",
       "       'bash_dials_10', 'bash_dials_25', 'bash_dials_50',\n",
       "       'bash_dials_100', 'run_mnist_predict_1', 'bash_corr_1',\n",
       "       'bash_preview_1'], dtype=object)"
      ]
     },
     "execution_count": 5,
     "metadata": {},
     "output_type": "execute_result"
    }
   ],
   "source": [
    "tags = tasks[\"tag\"].unique()\n",
    "tags"
   ]
  },
  {
   "cell_type": "code",
   "execution_count": 6,
   "metadata": {},
   "outputs": [
    {
     "name": "stderr",
     "output_type": "stream",
     "text": [
      "/home/skluzacek/.miniconda3/envs/funcx/lib/python3.6/site-packages/ipykernel_launcher.py:2: SettingWithCopyWarning: \n",
      "A value is trying to be set on a copy of a slice from a DataFrame.\n",
      "Try using .loc[row_indexer,col_indexer] = value instead\n",
      "\n",
      "See the caveats in the documentation: http://pandas.pydata.org/pandas-docs/stable/indexing.html#indexing-view-versus-copy\n",
      "  \n"
     ]
    }
   ],
   "source": [
    "latency_df = tasks[['tag', 'completion_time']]\n",
    "latency_df[\"log_completion_time\"] = np.log10(latency_df[\"completion_time\"])\n",
    "# for index, row in latency_df.iterrows():\n",
    "#     if row[\"completion_time\"] < 0: \n",
    "#         print(\"ERROR\")\n",
    "#     print(index, row['completion_time'], row['tag'])"
   ]
  },
  {
   "cell_type": "code",
   "execution_count": 51,
   "metadata": {},
   "outputs": [
    {
     "name": "stderr",
     "output_type": "stream",
     "text": [
      "/home/skluzacek/.miniconda3/envs/funcx/lib/python3.6/site-packages/matplotlib/figure.py:445: UserWarning: Matplotlib is currently using module://ipykernel.pylab.backend_inline, which is a non-GUI backend, so cannot show the figure.\n",
      "  % get_backend())\n"
     ]
    },
    {
     "data": {
      "image/png": "[encoded data removed]",
      "text/plain": [
       "<Figure size 720x144 with 5 Axes>"
      ]
     },
     "metadata": {
      "needs_background": "light"
     },
     "output_type": "display_data"
    }
   ],
   "source": [
    "# print(latency_df)\n",
    "\n",
    "# latency_df[\"completion_time\"] = np.log(latency_df[\"completion_time\"])\n",
    "\n",
    "\n",
    "\n",
    "file_20k_1 = latency_df.loc[(latency_df.tag == \"run_20k_file_1\")]\n",
    "file_20k_1 = file_20k_1[\"completion_time\"]\n",
    "weights_1 = np.ones_like(file_20k_1)/float(len(file_20k_1))\n",
    "\n",
    "# print(file_20k_1)\n",
    "\n",
    "bash_dials_1 = latency_df.loc[(latency_df.tag == \"bash_dials_1\")]\n",
    "bash_dials_1 = bash_dials_1[\"completion_time\"]\n",
    "weights_2 = np.ones_like(bash_dials_1)/float(len(bash_dials_1))\n",
    "\n",
    "# bash_dials_50 = latency_df.loc[(latency_df.tag == \"bash_dials_50\")]\n",
    "# bash_dials_50 = bash_dials_50[\"completion_time\"]\n",
    "# weights_3 = np.ones_like(bash_dials_1)/float(len(bash_dials_1))\n",
    "\n",
    "\n",
    "bash_corr_1 = latency_df.loc[(latency_df.tag == \"bash_corr_1\")]\n",
    "bash_corr_1 = bash_corr_1[\"completion_time\"]\n",
    "weights_4 = np.ones_like(bash_corr_1)/float(len(bash_corr_1))\n",
    "\n",
    "\n",
    "mnist_predict_1 = latency_df.loc[(latency_df.tag == \"run_mnist_predict_1\")]\n",
    "mnist_predict_1 = mnist_predict_1[\"completion_time\"]\n",
    "weights_3 = np.ones_like(mnist_predict_1)/float(len(mnist_predict_1))\n",
    "\n",
    "kasthuri_1 = latency_df.loc[(latency_df.tag == \"bash_preview_1\")]\n",
    "\n",
    "### Trim obvious outliers from Kasthuri data ###\n",
    "kasthuri_sort = kasthuri_1.sort_values(by='completion_time')\n",
    "kasthuri_1 = kasthuri_sort.head(100)\n",
    "\n",
    "kasthuri_1 = kasthuri_1[\"completion_time\"]\n",
    "weights_5 = np.ones_like(kasthuri_1)/float(len(kasthuri_1))\n",
    "# fig, ax = plt.subplots(1)\n",
    "\n",
    "\n",
    "f = plt.figure(figsize=(10,2))\n",
    "ax1 = f.add_subplot(1,5,1)\n",
    "ax2 = f.add_subplot(1,5,2)\n",
    "ax3 = f.add_subplot(1,5,3)\n",
    "ax4 = f.add_subplot(1,5,5)\n",
    "ax5 = f.add_subplot(1,5,4)\n",
    "\n",
    "\n",
    "\n",
    "# plt.subplot(1,4,1, figsize=(10,3))\n",
    "ax1.hist(file_20k_1, weights=weights_1, bins=10, color='#efbbff')\n",
    "ax1.set_ylabel('Density (%)')\n",
    "ax1.set_xlabel('')\n",
    "ax1.set_title(\"(a) tabular file\\n extraction\", y=-0.7)\n",
    "# plt.xlab(\"(a) 20k file extraction\")\n",
    "ax1.set_ylim((0,.5))\n",
    "# plt.draw()\n",
    "\n",
    "### MNIST ###\n",
    "# plt.subplot(1,4,2)\n",
    "ax2.hist(mnist_predict_1, weights=weights_3, bins=10, color='#d896ff')\n",
    "ax2.set_yticks([])\n",
    "ax2.set_ylim((0,.5))\n",
    "\n",
    "ax2.set_xlabel('')\n",
    "ax2.set_title(\"(b) MNIST digit\\n prediction\", y=-0.7)\n",
    "\n",
    "\n",
    "# ax2.yticks([])\n",
    "# ax2.ylim((0,.5))\n",
    "# ax2.draw()\n",
    "\n",
    "### BASH DIALS ###\n",
    "# plt.subplot(1,4,3)\n",
    "ax3.hist(bash_dials_1, weights=weights_2, bins=10, color='#be29ec')\n",
    "ax3.set_yticks([])\n",
    "ax3.set_xlabel('Latency (s)')\n",
    "ax3.set_title(\"(c) DIALS stills\\n process\", y=-0.7)\n",
    "\n",
    "ax3.set_ylim((0,.5))\n",
    "\n",
    "\n",
    "# plt.yticks([])\n",
    "# plt.ylim((0,.5))\n",
    "\n",
    "\n",
    "### BASH CORR ####\n",
    "# plt.subplot(1,4,4)\n",
    "\n",
    "# plt.ylim((0,.5))\n",
    "# plt.yticks([])\n",
    "ax4.hist(bash_corr_1, weights=weights_4, bins=10, color='#660066')\n",
    "ax4.set_yticks([])\n",
    "ax4.set_xlabel('')\n",
    "ax4.set_title('(e) correlation\\n spectroscopy', y=-0.7)\n",
    "\n",
    "\n",
    "ax4.set_ylim((0,.5))\n",
    "\n",
    "ax5.hist(kasthuri_1, weights=weights_5, bins=10, color='#800080')\n",
    "ax5.set_yticks([])\n",
    "ax5.set_xlabel('')\n",
    "ax5.set_title('(d) tomographic\\n preview', y=-0.7)\n",
    "\n",
    "ax5.set_ylim((0,.5))\n",
    "\n",
    "f.subplots_adjust(wspace=0.15, hspace=0)\n",
    "# plt.show()\n",
    "\n",
    "\n",
    "# f.tight_layout()\n",
    "\n",
    "# plt3.hist(mnist_predict_1, weights=weights_3, bins=7)\n",
    "\n",
    "# print(np.mean(mnist_predict_1))\n",
    "\n",
    "# ax1 = sns.distplot(file_20k_1, hist=False, kde=True, norm_hist=True)\n",
    "\n",
    "# ax1 = sns.distplot(file_20k_1, kde_kws={\"lw\": 1, \"label\": \"xtract_20k_file\"}, hist=False)\n",
    "# ax1.set_xscale('log')\n",
    "# ax2 = sns.distplot(bash_dials_1, kde_kws={\"lw\": 1, \"label\": \"crystal_dials_1\"}, norm_hist=True)\n",
    "# ax3 = sns.distplot(bash_dials_50, kde_kws={\"lw\": 1, \"label\": \"crystal_dials_50\"}, norm_hist=True)\n",
    "# sns.distplot(bash_corr_1, kde_kws={\"lw\": 1, \"label\": \"xpcs_corr_1\"}, norm_hist=True, ax=ax1)\n",
    "# ax5 = sns.distplot(mnist_predict_1, kde_kws={\"lw\": 1, \"label\": \"mnist_predict_1\"})\n",
    "# ax4.set(xlabel = \"Completion Time (s)\", ylabel=\"Density(%)\")\n",
    "# ax4.set_xscale('log')\n",
    "# ax4.set_xlim((0,20))\n",
    "\n",
    "# print(file_20k_1)\n",
    "\n",
    "\n",
    "\n",
    "\n",
    "# ax1.ticklabel_format(axis='x', style='sci', scilimits=(0,0))\n",
    "# plt.show()\n",
    "f.show()\n",
    "f.savefig('use-cases.jpg', dpi=1000, bbox_inches=\"tight\")\n",
    "\n",
    "# run_mnist_predict_1"
   ]
  },
  {
   "cell_type": "code",
   "execution_count": 8,
   "metadata": {
    "scrolled": true
   },
   "outputs": [
    {
     "name": "stdout",
     "output_type": "stream",
     "text": [
      "4.803094387054443\n",
      "6.222460031509399\n",
      "5.479965703487396\n"
     ]
    }
   ],
   "source": [
    "print(np.min(kasthuri_1))\n",
    "print(np.max(kasthuri_1))\n",
    "print(np.mean(kasthuri_1))\n"
   ]
  },
  {
   "cell_type": "code",
   "execution_count": null,
   "metadata": {},
   "outputs": [],
   "source": []
  }
 ],
 "metadata": {
  "kernelspec": {
   "display_name": "Python 3",
   "language": "python",
   "name": "python3"
  },
  "language_info": {
   "codemirror_mode": {
    "name": "ipython",
    "version": 3
   },
   "file_extension": ".py",
   "mimetype": "text/x-python",
   "name": "python",
   "nbconvert_exporter": "python",
   "pygments_lexer": "ipython3",
   "version": "3.6.8"
  },
  "widgets": {
   "application/vnd.jupyter.widget-state+json": {
    "state": {},
    "version_major": 2,
    "version_minor": 0
   }
  }
 },
 "nbformat": 4,
 "nbformat_minor": 2
}
