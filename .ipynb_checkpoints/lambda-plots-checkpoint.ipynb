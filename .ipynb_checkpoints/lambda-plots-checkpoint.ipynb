{
 "cells": [
  {
   "cell_type": "code",
   "execution_count": 1,
   "metadata": {},
   "outputs": [],
   "source": [
    "import matplotlib.pyplot as plt\n",
    "import numpy as np\n",
    "import pandas as pd\n",
    "import re\n",
    "import sqlite3\n",
    "import seaborn as sns\n",
    "\n",
    "sns.set(style='white', palette=\"Set2\", color_codes=False)\n",
    "sns.set_style(\"ticks\")\n",
    "\n",
    "%matplotlib inline"
   ]
  },
  {
   "cell_type": "code",
   "execution_count": 2,
   "metadata": {},
   "outputs": [],
   "source": [
    "def get_dataframes(query, databases):\n",
    "    dataframes = []\n",
    "    for database in databases:\n",
    "        db = sqlite3.connect(database)\n",
    "        dataframes += [pd.read_sql_query(query, db)]\n",
    "    return pd.concat(dataframes)"
   ]
  },
  {
   "cell_type": "code",
   "execution_count": 3,
   "metadata": {},
   "outputs": [],
   "source": [
    "query = 'select job_type, tot_time from tasks'\n",
    "databases = [\n",
    "             'lambda_funcx3.db', 'cold_starts.db'\n",
    "]\n",
    "tasks = get_dataframes(query, databases)"
   ]
  },
  {
   "cell_type": "code",
   "execution_count": 4,
   "metadata": {},
   "outputs": [],
   "source": [
    "\n",
    "# NOTE multiplying by 100 and not 1000 b/c off by factor of 10. \n",
    "# tasks.head()\n",
    "# tasks['batch_size'] = tasks.tag.str.extract('(\\d+)')\n",
    "# tasks['task_time'] = tasks.completion_time / tasks.batch_size.astype(int)\n"
   ]
  },
  {
   "cell_type": "code",
   "execution_count": 5,
   "metadata": {},
   "outputs": [
    {
     "data": {
      "text/plain": [
       "array(['lambda', 'google', 'azure', 'funcx', 'cold-lambda', 'cold-google',\n",
       "       'cold-azure', 'cold-funcx'], dtype=object)"
      ]
     },
     "execution_count": 5,
     "metadata": {},
     "output_type": "execute_result"
    }
   ],
   "source": [
    "tags = tasks[\"job_type\"].unique()\n",
    "tags"
   ]
  },
  {
   "cell_type": "code",
   "execution_count": 6,
   "metadata": {},
   "outputs": [
    {
     "name": "stdout",
     "output_type": "stream",
     "text": [
      "0.11386806920744766\n",
      "0.12225596066294103\n",
      "0.1257232077542754\n",
      "0.07586415485479403\n"
     ]
    },
    {
     "data": {
      "image/png": "[encoded data removed]",
      "text/plain": [
       "<Figure size 432x288 with 1 Axes>"
      ]
     },
     "metadata": {
      "needs_background": "light"
     },
     "output_type": "display_data"
    }
   ],
   "source": [
    "aws_mean = np.mean(tasks.loc[(tasks.job_type == \"lambda\")]).tot_time\n",
    "aws_std = np.std(tasks.loc[(tasks.job_type == \"lambda\")]).tot_time\n",
    "print(aws_mean)\n",
    "\n",
    "google_mean = np.mean(tasks.loc[(tasks.job_type == \"google\")]).tot_time\n",
    "google_std = np.std(tasks.loc[(tasks.job_type == \"google\")]).tot_time\n",
    "#aws_times = aws_times[\"tot_time\"]\n",
    "# print(aws_std)\n",
    "print(google_mean)\n",
    "\n",
    "azure_mean = np.mean(tasks.loc[(tasks.job_type == \"azure\")]).tot_time\n",
    "azure_std = np.std(tasks.loc[(tasks.job_type == \"azure\")]).tot_time\n",
    "print(azure_mean)\n",
    "\n",
    "funcx_mean = np.mean(tasks.loc[(tasks.job_type == \"funcx\")]).tot_time\n",
    "funcx_std = np.std(tasks.loc[(tasks.job_type == \"funcx\")]).tot_time\n",
    "print(funcx_mean)\n",
    "\n",
    "labs = [\"google\\nfunctions\", \"azure\\nfunctions\", \"aws\\nlambda\", \"funcX\"]\n",
    "x_pos = np.arange(len(labs))\n",
    "means = [google_mean, azure_mean, aws_mean, funcx_mean]\n",
    "stds = [google_std, azure_std, aws_std, funcx_std]\n",
    "\n",
    "f = plt.figure()\n",
    "plt.bar(x_pos, means, yerr=stds, tick_label=labs, capsize=10, color=[\"#FFC62F\", \"#FFC62F\", \"#FFC62F\", \"#4F2683\"])\n",
    "\n",
    "plt.ylabel(ylabel=\"Latency (s)\")\n",
    "\n",
    "f.savefig('lambda-latency.png', dpi=1000)\n",
    "\n",
    "plt.show()\n",
    "# plt.show()"
   ]
  },
  {
   "cell_type": "code",
   "execution_count": 8,
   "metadata": {},
   "outputs": [
    {
     "name": "stdout",
     "output_type": "stream",
     "text": [
      "10.802587134219786\n"
     ]
    },
    {
     "data": {
      "text/plain": [
       "[<matplotlib.axis.XTick at 0x7f7d9f834b70>,\n",
       " <matplotlib.axis.XTick at 0x7f7d9f834400>,\n",
       " <matplotlib.axis.XTick at 0x7f7d9f8342b0>,\n",
       " <matplotlib.axis.XTick at 0x7f7d9f8604a8>]"
      ]
     },
     "execution_count": 8,
     "metadata": {},
     "output_type": "execute_result"
    },
    {
     "data": {
      "text/plain": [
       "<Figure size 432x288 with 0 Axes>"
      ]
     },
     "metadata": {},
     "output_type": "display_data"
    },
    {
     "data": {
      "image/png": "[encoded data removed]",
      "text/plain": [
       "<Figure size 432x288 with 1 Axes>"
      ]
     },
     "metadata": {
      "needs_background": "light"
     },
     "output_type": "display_data"
    }
   ],
   "source": [
    "plt.clf()\n",
    "\n",
    "\n",
    "aws_cold_mean = np.mean(tasks.loc[(tasks.job_type == \"cold-lambda\")]).tot_time\n",
    "aws_cold_std = np.std(tasks.loc[(tasks.job_type == \"cold-lambda\")]).tot_time\n",
    "\n",
    "google_cold_mean = np.mean(tasks.loc[(tasks.job_type == \"cold-google\")]).tot_time\n",
    "google_cold_std = np.std(tasks.loc[(tasks.job_type == \"cold-google\")]).tot_time\n",
    "#aws_times = aws_times[\"tot_time\"]\n",
    "# print(aws_std)\n",
    "\n",
    "azure_cold_mean = np.mean(tasks.loc[(tasks.job_type == \"cold-azure\")]).tot_time\n",
    "azure_cold_std = np.std(tasks.loc[(tasks.job_type == \"cold-azure\")]).tot_time\n",
    "\n",
    "funcx_cold_mean = np.mean(tasks.loc[(tasks.job_type == \"cold-funcx\")]).tot_time\n",
    "funcx_cold_std = np.std(tasks.loc[(tasks.job_type == \"cold-funcx\")]).tot_time\n",
    "print(funcx_cold_std)\n",
    "\n",
    "\n",
    "N = 4\n",
    "ind = np.arange(N)    # the x locations for the groups\n",
    "\n",
    "fig, ax = plt.subplots()\n",
    "width = 0.35\n",
    "cold_means = [google_cold_mean,azure_cold_mean,aws_cold_mean,funcx_cold_mean]\n",
    "cold_stds = [google_cold_std, azure_cold_std, aws_cold_std, funcx_cold_std]\n",
    "\n",
    "p1 = ax.bar(ind, means, width, yerr=stds, tick_label=labs, capsize=10, color=[\"#FFC62F\", \"#FFC62F\", \"#FFC62F\", \"#4F2683\"])\n",
    "p2 = ax.bar(ind+width, cold_means, width, yerr=cold_stds, capsize=10, color=[\"#FFC62F\", \"#FFC62F\", \"#FFC62F\", \"#4F2683\"])\n",
    "ax.set_xticks(ind + width / 2)\n",
    "\n",
    "# p1.ylabel(\"hey\")\n",
    "\n",
    "\n"
   ]
  },
  {
   "cell_type": "code",
   "execution_count": null,
   "metadata": {},
   "outputs": [],
   "source": []
  }
 ],
 "metadata": {
  "kernelspec": {
   "display_name": "Python 3",
   "language": "python",
   "name": "python3"
  },
  "language_info": {
   "codemirror_mode": {
    "name": "ipython",
    "version": 3
   },
   "file_extension": ".py",
   "mimetype": "text/x-python",
   "name": "python",
   "nbconvert_exporter": "python",
   "pygments_lexer": "ipython3",
   "version": "3.6.8"
  },
  "widgets": {
   "application/vnd.jupyter.widget-state+json": {
    "state": {},
    "version_major": 2,
    "version_minor": 0
   }
  }
 },
 "nbformat": 4,
 "nbformat_minor": 2
}
