{
 "cells": [
  {
   "cell_type": "code",
   "execution_count": 1,
   "metadata": {},
   "outputs": [],
   "source": [
    "import matplotlib.pyplot as plt\n",
    "import numpy as np\n",
    "import pandas as pd\n",
    "import sqlite3\n",
    "import seaborn as sns\n",
    "\n",
    "sns.set(style='white', palette=\"Set2\", color_codes=False)\n",
    "#sns.set_style(\"ticks\")\n",
    "\n",
    "%matplotlib inline"
   ]
  },
  {
   "cell_type": "code",
   "execution_count": 2,
   "metadata": {},
   "outputs": [],
   "source": [
    "db_path = 'data.db'\n",
    "db = sqlite3.connect(db_path)"
   ]
  },
  {
   "cell_type": "code",
   "execution_count": 3,
   "metadata": {},
   "outputs": [],
   "source": [
    "tasks = pd.read_sql_query('select executor, tasks_per_trial, returned, start_submit, connected_workers, tag from tasks', db)"
   ]
  },
  {
   "cell_type": "code",
   "execution_count": 4,
   "metadata": {},
   "outputs": [],
   "source": [
    "tasks['completion time'] = tasks['returned'] - tasks['start_submit']\n",
    "tasks['tasks/workers'] = tasks['tasks_per_trial'].map(str) + '/' + tasks['connected_workers'].map(str)"
   ]
  },
  {
   "cell_type": "code",
   "execution_count": 7,
   "metadata": {},
   "outputs": [
    {
     "data": {
      "text/plain": [
       "array(['sleep10000ms'], dtype=object)"
      ]
     },
     "execution_count": 7,
     "metadata": {},
     "output_type": "execute_result"
    }
   ],
   "source": [
    "tasks['tag'].unique()"
   ]
  },
  {
   "cell_type": "code",
   "execution_count": 11,
   "metadata": {},
   "outputs": [
    {
     "data": {
      "text/plain": [
       "dict_items([(10000, '10s sleep')])"
      ]
     },
     "execution_count": 11,
     "metadata": {},
     "output_type": "execute_result"
    }
   ],
   "source": [
    "sleeps.items()"
   ]
  },
  {
   "cell_type": "code",
   "execution_count": 20,
   "metadata": {},
   "outputs": [
    {
     "data": {
      "image/png": "[encoded data removed]",
      "text/plain": [
       "<Figure size 432x288 with 2 Axes>"
      ]
     },
     "metadata": {},
     "output_type": "display_data"
    }
   ],
   "source": [
    "sleeps = {\n",
    "    10000: '10s sleep'\n",
    "}\n",
    "fig, axes = plt.subplots(nrows=len(sleeps), sharex=True)\n",
    "\n",
    "for i, (sleep, label) in enumerate(sleeps.items()):\n",
    "    tag = 'sleep{}ms'.format(sleep)\n",
    "    ax = axes if len(sleeps) == 1 else axes[i]\n",
    "\n",
    "    df = tasks[(tasks['tag'] == tag)].groupby('tasks/workers', as_index=False)\n",
    "    means = df.mean().sort_values('connected_workers')\n",
    "    means.plot.bar('tasks/workers', 'completion time', label=label, ax=ax, color=sns.xkcd_rgb[\"denim blue\"], width=0.25)\n",
    "    \n",
    "    ax.axhline(y=sleep / 1000 * 10, color='black', linestyle='dashed', label='ideal completion time')\n",
    "    ax.set_ylim(0, max(means['completion time'] * 1.2))\n",
    "    ax.legend(frameon=False, loc='upper left', ncol=2)\n",
    "    ax.set_xlabel('')\n",
    "\n",
    "ax = fig.add_subplot(111, frameon=False)\n",
    "plt.tick_params(labelcolor='none', top=False, bottom=False, left=False, right=False)\n",
    "ax.set_ylabel('completion time [s]', labelpad=10)\n",
    "ax.set_xlabel('tasks / workers', labelpad=60)\n",
    "\n",
    "plt.savefig('weak-scaling.pdf')"
   ]
  },
  {
   "cell_type": "code",
   "execution_count": null,
   "metadata": {},
   "outputs": [],
   "source": []
  }
 ],
 "metadata": {
  "kernelspec": {
   "display_name": "Python 3",
   "language": "python3",
   "name": "python3"
  },
  "language_info": {
   "codemirror_mode": {
    "name": "ipython",
    "version": 3
   },
   "file_extension": ".py",
   "mimetype": "text/x-python",
   "name": "python",
   "nbconvert_exporter": "python",
   "pygments_lexer": "ipython3",
   "version": "3.6.5"
  },
  "widgets": {
   "application/vnd.jupyter.widget-state+json": {
    "state": {},
    "version_major": 2,
    "version_minor": 0
   }
  }
 },
 "nbformat": 4,
 "nbformat_minor": 2
}
